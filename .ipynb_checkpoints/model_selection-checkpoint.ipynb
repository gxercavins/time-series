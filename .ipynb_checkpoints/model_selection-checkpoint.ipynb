{
 "cells": [
  {
   "cell_type": "code",
   "execution_count": 1,
   "metadata": {},
   "outputs": [],
   "source": [
    "import warnings\n",
    "\n",
    "warnings.filterwarnings(\"ignore\") # specify to ignore warning messages\n",
    "\n",
    "import pandas as pd\n",
    "import matplotlib.pyplot as plt\n",
    "import itertools as it\n",
    "import datetime\n",
    "import math\n",
    "\n",
    "import statsmodels.api as sm"
   ]
  },
  {
   "cell_type": "code",
   "execution_count": 2,
   "metadata": {},
   "outputs": [],
   "source": [
    "xl = pd.ExcelFile('input_data.xlsx')\n",
    "\n",
    "data = {sheet_name: xl.parse(sheet_name) for sheet_name in xl.sheet_names}\n",
    "\n",
    "days = ['Mon', 'Tue', 'Wed', 'Thu', 'Fri', 'Sat', 'Sun']\n",
    "\n",
    "res = []\n",
    "\n",
    "for name in xl.sheet_names:\n",
    "    mylist = map(list, zip(*data[name].values))\n",
    "    aux = list(it.chain(*mylist))\n",
    "    del aux[:24]\n",
    "    res.append(aux)\n",
    "\n",
    "res = list(it.chain(*res))\n",
    "\n",
    "days = [days for i in range(0, 4)]\n",
    "days_repeated = days * 4"
   ]
  },
  {
   "cell_type": "code",
   "execution_count": 3,
   "metadata": {},
   "outputs": [
    {
     "name": "stdout",
     "output_type": "stream",
     "text": [
      "[(0, 0, 0), (0, 0, 1), (0, 1, 0), (0, 1, 1), (1, 0, 0), (1, 0, 1), (1, 1, 0), (1, 1, 1)]\n",
      "Examples of parameter combinations for Seasonal ARIMA...\n",
      "SARIMAX: (0, 0, 1) x (0, 0, 1, 168)\n",
      "SARIMAX: (0, 0, 1) x (0, 1, 0, 168)\n",
      "SARIMAX: (0, 1, 0) x (0, 1, 1, 168)\n",
      "SARIMAX: (0, 1, 0) x (1, 0, 0, 168)\n"
     ]
    }
   ],
   "source": [
    "# Tune Seasonal ARIMA model\n",
    "# Define the p, d and q parameters to take any value between 0 and 2\n",
    "p = d = q = range(0,2)\n",
    "\n",
    "# Generate all different combinations of p, q and q triplets\n",
    "pdq = list(it.product(p, d, q))\n",
    "print(pdq)\n",
    "\n",
    "# Generate all different combinations of seasonal p, q and q triplets\n",
    "# Seasonality is one week (24*7 = 168 hours)\n",
    "seasonal_pdq = [(x[0], x[1], x[2], 168) for x in list(it.product(p, d, q))]\n",
    "\n",
    "print('Examples of parameter combinations for Seasonal ARIMA...')\n",
    "print('SARIMAX: {} x {}'.format(pdq[1], seasonal_pdq[1]))\n",
    "print('SARIMAX: {} x {}'.format(pdq[1], seasonal_pdq[2]))\n",
    "print('SARIMAX: {} x {}'.format(pdq[2], seasonal_pdq[3]))\n",
    "print('SARIMAX: {} x {}'.format(pdq[2], seasonal_pdq[4]))"
   ]
  },
  {
   "cell_type": "code",
   "execution_count": 4,
   "metadata": {},
   "outputs": [
    {
     "name": "stdout",
     "output_type": "stream",
     "text": [
      "ok\n",
      "ARIMA(0, 0, 0)x(0, 0, 0, 168)168 - AIC:10097.43\n",
      "ok\n"
     ]
    },
    {
     "name": "stderr",
     "output_type": "stream",
     "text": [
      "/home/guillem/my-repos/time-series/venv/local/lib/python2.7/site-packages/statsmodels/base/model.py:508: ConvergenceWarning: Maximum Likelihood optimization failed to converge. Check mle_retvals\n",
      "  \"Check mle_retvals\", ConvergenceWarning)\n"
     ]
    },
    {
     "name": "stdout",
     "output_type": "stream",
     "text": [
      "ARIMA(0, 0, 0)x(0, 0, 1, 168)168 - AIC:19561.85\n",
      "ok\n",
      "ARIMA(0, 0, 0)x(0, 1, 0, 168)168 - AIC:6053.09\n",
      "ok\n",
      "error\n",
      "ok\n",
      "ARIMA(0, 0, 0)x(1, 0, 0, 168)168 - AIC:6050.84\n",
      "ok\n"
     ]
    },
    {
     "name": "stderr",
     "output_type": "stream",
     "text": [
      "/home/guillem/my-repos/time-series/venv/local/lib/python2.7/site-packages/statsmodels/base/model.py:508: ConvergenceWarning: Maximum Likelihood optimization failed to converge. Check mle_retvals\n",
      "  \"Check mle_retvals\", ConvergenceWarning)\n"
     ]
    },
    {
     "name": "stdout",
     "output_type": "stream",
     "text": [
      "ARIMA(0, 0, 0)x(1, 0, 1, 168)168 - AIC:14320.0\n",
      "ok\n",
      "ARIMA(0, 0, 0)x(1, 1, 0, 168)168 - AIC:3915.73\n",
      "ok\n",
      "error\n",
      "ok\n",
      "ARIMA(0, 0, 1)x(0, 0, 0, 168)168 - AIC:9372.44\n",
      "ok\n",
      "ARIMA(0, 0, 1)x(0, 0, 1, 168)168 - AIC:nan\n",
      "ok\n",
      "ARIMA(0, 0, 1)x(0, 1, 0, 168)168 - AIC:5953.08\n",
      "ok\n",
      "error\n",
      "ok\n",
      "ARIMA(0, 0, 1)x(1, 0, 0, 168)168 - AIC:5973.03\n",
      "ok\n",
      "ARIMA(0, 0, 1)x(1, 0, 1, 168)168 - AIC:nan\n",
      "ok\n",
      "ARIMA(0, 0, 1)x(1, 1, 0, 168)168 - AIC:3854.2\n",
      "ok\n",
      "error\n",
      "ok\n",
      "ARIMA(0, 1, 0)x(0, 0, 0, 168)168 - AIC:9171.21\n",
      "ok\n"
     ]
    },
    {
     "name": "stderr",
     "output_type": "stream",
     "text": [
      "/home/guillem/my-repos/time-series/venv/local/lib/python2.7/site-packages/statsmodels/base/model.py:508: ConvergenceWarning: Maximum Likelihood optimization failed to converge. Check mle_retvals\n",
      "  \"Check mle_retvals\", ConvergenceWarning)\n"
     ]
    },
    {
     "name": "stdout",
     "output_type": "stream",
     "text": [
      "ARIMA(0, 1, 0)x(0, 0, 1, 168)168 - AIC:19125.59\n",
      "ok\n",
      "ARIMA(0, 1, 0)x(0, 1, 0, 168)168 - AIC:6114.69\n",
      "ok\n",
      "error\n",
      "ok\n",
      "ARIMA(0, 1, 0)x(1, 0, 0, 168)168 - AIC:6121.6\n",
      "ok\n"
     ]
    },
    {
     "name": "stderr",
     "output_type": "stream",
     "text": [
      "/home/guillem/my-repos/time-series/venv/local/lib/python2.7/site-packages/statsmodels/base/model.py:508: ConvergenceWarning: Maximum Likelihood optimization failed to converge. Check mle_retvals\n",
      "  \"Check mle_retvals\", ConvergenceWarning)\n"
     ]
    },
    {
     "name": "stdout",
     "output_type": "stream",
     "text": [
      "ARIMA(0, 1, 0)x(1, 0, 1, 168)168 - AIC:14257.72\n",
      "ok\n",
      "ARIMA(0, 1, 0)x(1, 1, 0, 168)168 - AIC:3939.41\n",
      "ok\n",
      "error\n",
      "ok\n",
      "ARIMA(0, 1, 1)x(0, 0, 0, 168)168 - AIC:8930.38\n",
      "ok\n",
      "ARIMA(0, 1, 1)x(0, 0, 1, 168)168 - AIC:47060.1\n",
      "ok\n",
      "ARIMA(0, 1, 1)x(0, 1, 0, 168)168 - AIC:6007.22\n",
      "ok\n",
      "error\n",
      "ok\n",
      "ARIMA(0, 1, 1)x(1, 0, 0, 168)168 - AIC:6028.44\n",
      "ok\n",
      "ARIMA(0, 1, 1)x(1, 0, 1, 168)168 - AIC:38079.81\n",
      "ok\n",
      "ARIMA(0, 1, 1)x(1, 1, 0, 168)168 - AIC:3877.28\n",
      "ok\n",
      "error\n",
      "ok\n",
      "ARIMA(1, 0, 0)x(0, 0, 0, 168)168 - AIC:9141.77\n",
      "ok\n"
     ]
    },
    {
     "name": "stderr",
     "output_type": "stream",
     "text": [
      "/home/guillem/my-repos/time-series/venv/local/lib/python2.7/site-packages/statsmodels/base/model.py:508: ConvergenceWarning: Maximum Likelihood optimization failed to converge. Check mle_retvals\n",
      "  \"Check mle_retvals\", ConvergenceWarning)\n"
     ]
    },
    {
     "name": "stdout",
     "output_type": "stream",
     "text": [
      "ARIMA(1, 0, 0)x(0, 0, 1, 168)168 - AIC:16589.28\n",
      "ok\n",
      "ARIMA(1, 0, 0)x(0, 1, 0, 168)168 - AIC:5956.36\n",
      "ok\n",
      "error\n",
      "ok\n",
      "ARIMA(1, 0, 0)x(1, 0, 0, 168)168 - AIC:5956.75\n",
      "ok\n",
      "ARIMA(1, 0, 0)x(1, 0, 1, 168)168 - AIC:14721.95\n",
      "ok\n",
      "ARIMA(1, 0, 0)x(1, 1, 0, 168)168 - AIC:3835.74\n",
      "ok\n",
      "error\n",
      "ok\n",
      "ARIMA(1, 0, 1)x(0, 0, 0, 168)168 - AIC:8866.63\n",
      "ok\n",
      "ARIMA(1, 0, 1)x(0, 0, 1, 168)168 - AIC:37153.04\n",
      "ok\n",
      "ARIMA(1, 0, 1)x(0, 1, 0, 168)168 - AIC:5946.06\n",
      "ok\n",
      "error\n",
      "ok\n",
      "ARIMA(1, 0, 1)x(1, 0, 0, 168)168 - AIC:5957.24\n",
      "ok\n",
      "ARIMA(1, 0, 1)x(1, 0, 1, 168)168 - AIC:36599.26\n",
      "ok\n",
      "ARIMA(1, 0, 1)x(1, 1, 0, 168)168 - AIC:3836.72\n",
      "ok\n",
      "error\n",
      "ok\n",
      "ARIMA(1, 1, 0)x(0, 0, 0, 168)168 - AIC:9064.16\n",
      "ok\n"
     ]
    },
    {
     "name": "stderr",
     "output_type": "stream",
     "text": [
      "/home/guillem/my-repos/time-series/venv/local/lib/python2.7/site-packages/statsmodels/base/model.py:508: ConvergenceWarning: Maximum Likelihood optimization failed to converge. Check mle_retvals\n",
      "  \"Check mle_retvals\", ConvergenceWarning)\n"
     ]
    },
    {
     "name": "stdout",
     "output_type": "stream",
     "text": [
      "ARIMA(1, 1, 0)x(0, 0, 1, 168)168 - AIC:13664.71\n",
      "ok\n",
      "ARIMA(1, 1, 0)x(0, 1, 0, 168)168 - AIC:6084.03\n",
      "ok\n",
      "error\n",
      "ok\n",
      "ARIMA(1, 1, 0)x(1, 0, 0, 168)168 - AIC:6085.09\n",
      "ok\n"
     ]
    },
    {
     "name": "stderr",
     "output_type": "stream",
     "text": [
      "/home/guillem/my-repos/time-series/venv/local/lib/python2.7/site-packages/statsmodels/base/model.py:508: ConvergenceWarning: Maximum Likelihood optimization failed to converge. Check mle_retvals\n",
      "  \"Check mle_retvals\", ConvergenceWarning)\n"
     ]
    },
    {
     "name": "stdout",
     "output_type": "stream",
     "text": [
      "ARIMA(1, 1, 0)x(1, 0, 1, 168)168 - AIC:16546.93\n",
      "ok\n",
      "ARIMA(1, 1, 0)x(1, 1, 0, 168)168 - AIC:3912.87\n",
      "ok\n",
      "error\n",
      "ok\n",
      "ARIMA(1, 1, 1)x(0, 0, 0, 168)168 - AIC:8932.28\n",
      "ok\n",
      "ARIMA(1, 1, 1)x(0, 0, 1, 168)168 - AIC:37188.75\n",
      "ok\n",
      "ARIMA(1, 1, 1)x(0, 1, 0, 168)168 - AIC:5934.29\n",
      "ok\n",
      "error\n",
      "ok\n",
      "ARIMA(1, 1, 1)x(1, 0, 0, 168)168 - AIC:5948.39\n",
      "ok\n",
      "ARIMA(1, 1, 1)x(1, 0, 1, 168)168 - AIC:35705.35\n",
      "ok\n",
      "ARIMA(1, 1, 1)x(1, 1, 0, 168)168 - AIC:3818.95\n",
      "ok\n",
      "error\n",
      "[(0, 0, 0), (0, 0, 0, 168), 10097.43, (0, 0, 0), (0, 0, 1, 168), 19561.85, (0, 0, 0), (0, 1, 0, 168), 6053.09, (0, 0, 0), (1, 0, 0, 168), 6050.84, (0, 0, 0), (1, 0, 1, 168), 14320.0, (0, 0, 0), (1, 1, 0, 168), 3915.73, (0, 0, 1), (0, 0, 0, 168), 9372.44, (0, 0, 1), (0, 0, 1, 168), nan, (0, 0, 1), (0, 1, 0, 168), 5953.08, (0, 0, 1), (1, 0, 0, 168), 5973.03, (0, 0, 1), (1, 0, 1, 168), nan, (0, 0, 1), (1, 1, 0, 168), 3854.2, (0, 1, 0), (0, 0, 0, 168), 9171.21, (0, 1, 0), (0, 0, 1, 168), 19125.59, (0, 1, 0), (0, 1, 0, 168), 6114.69, (0, 1, 0), (1, 0, 0, 168), 6121.6, (0, 1, 0), (1, 0, 1, 168), 14257.72, (0, 1, 0), (1, 1, 0, 168), 3939.41, (0, 1, 1), (0, 0, 0, 168), 8930.38, (0, 1, 1), (0, 0, 1, 168), 47060.1, (0, 1, 1), (0, 1, 0, 168), 6007.22, (0, 1, 1), (1, 0, 0, 168), 6028.44, (0, 1, 1), (1, 0, 1, 168), 38079.81, (0, 1, 1), (1, 1, 0, 168), 3877.28, (1, 0, 0), (0, 0, 0, 168), 9141.77, (1, 0, 0), (0, 0, 1, 168), 16589.28, (1, 0, 0), (0, 1, 0, 168), 5956.36, (1, 0, 0), (1, 0, 0, 168), 5956.75, (1, 0, 0), (1, 0, 1, 168), 14721.95, (1, 0, 0), (1, 1, 0, 168), 3835.74, (1, 0, 1), (0, 0, 0, 168), 8866.63, (1, 0, 1), (0, 0, 1, 168), 37153.04, (1, 0, 1), (0, 1, 0, 168), 5946.06, (1, 0, 1), (1, 0, 0, 168), 5957.24, (1, 0, 1), (1, 0, 1, 168), 36599.26, (1, 0, 1), (1, 1, 0, 168), 3836.72, (1, 1, 0), (0, 0, 0, 168), 9064.16, (1, 1, 0), (0, 0, 1, 168), 13664.71, (1, 1, 0), (0, 1, 0, 168), 6084.03, (1, 1, 0), (1, 0, 0, 168), 6085.09, (1, 1, 0), (1, 0, 1, 168), 16546.93, (1, 1, 0), (1, 1, 0, 168), 3912.87, (1, 1, 1), (0, 0, 0, 168), 8932.28, (1, 1, 1), (0, 0, 1, 168), 37188.75, (1, 1, 1), (0, 1, 0, 168), 5934.29, (1, 1, 1), (1, 0, 0, 168), 5948.39, (1, 1, 1), (1, 0, 1, 168), 35705.35, (1, 1, 1), (1, 1, 0, 168), 3818.95]\n"
     ]
    }
   ],
   "source": [
    "result_list = []\n",
    "\n",
    "for param in pdq:\n",
    "    for param_seasonal in seasonal_pdq:\n",
    "        try:\n",
    "            mod = sm.tsa.statespace.SARIMAX(res,\n",
    "                                            order=param,\n",
    "                                            seasonal_order=param_seasonal,\n",
    "                                            enforce_stationarity=False,\n",
    "                                            enforce_invertibility=False)\n",
    "            results = mod.fit()\n",
    "\n",
    "            print('ARIMA{}x{}168 - AIC:{}'.format(param, param_seasonal, round(results.aic,2)))\n",
    "            result_list.extend([param, param_seasonal, round(results.aic,2)])\n",
    "        except:\n",
    "            print('error')\n",
    "            continue\n",
    "            \n",
    "print('Done!')"
   ]
  },
  {
   "cell_type": "code",
   "execution_count": 30,
   "metadata": {
    "scrolled": false
   },
   "outputs": [
    {
     "name": "stdout",
     "output_type": "stream",
     "text": [
      "Result summary:\n",
      "\n",
      "((p, d, q), (P, D, Q, S), AIC)\n",
      "------------------------------\n",
      "((1, 1, 1), (1, 1, 0, 168), 3818.95)\n",
      "((1, 0, 0), (1, 1, 0, 168), 3835.74)\n",
      "((1, 0, 1), (1, 1, 0, 168), 3836.72)\n",
      "((0, 0, 1), (1, 1, 0, 168), 3854.2)\n",
      "((0, 1, 1), (1, 1, 0, 168), 3877.28)\n",
      "((1, 1, 0), (1, 1, 0, 168), 3912.87)\n",
      "((0, 0, 0), (1, 1, 0, 168), 3915.73)\n",
      "((0, 1, 0), (1, 1, 0, 168), 3939.41)\n",
      "((1, 1, 1), (0, 1, 0, 168), 5934.29)\n",
      "((1, 0, 1), (0, 1, 0, 168), 5946.06)\n",
      "((1, 1, 1), (1, 0, 0, 168), 5948.39)\n",
      "((0, 0, 1), (0, 1, 0, 168), 5953.08)\n",
      "((1, 0, 0), (0, 1, 0, 168), 5956.36)\n",
      "((1, 0, 0), (1, 0, 0, 168), 5956.75)\n",
      "((1, 0, 1), (1, 0, 0, 168), 5957.24)\n",
      "((0, 0, 1), (1, 0, 0, 168), 5973.03)\n",
      "((0, 1, 1), (0, 1, 0, 168), 6007.22)\n",
      "((0, 1, 1), (1, 0, 0, 168), 6028.44)\n",
      "((0, 0, 0), (1, 0, 0, 168), 6050.84)\n",
      "((0, 0, 0), (0, 1, 0, 168), 6053.09)\n",
      "((1, 1, 0), (0, 1, 0, 168), 6084.03)\n",
      "((1, 1, 0), (1, 0, 0, 168), 6085.09)\n",
      "((0, 1, 0), (0, 1, 0, 168), 6114.69)\n",
      "((0, 1, 0), (1, 0, 0, 168), 6121.6)\n",
      "((1, 0, 1), (0, 0, 0, 168), 8866.63)\n",
      "((0, 1, 1), (0, 0, 0, 168), 8930.38)\n",
      "((1, 1, 1), (0, 0, 0, 168), 8932.28)\n",
      "((1, 1, 0), (0, 0, 0, 168), 9064.16)\n",
      "((1, 0, 0), (0, 0, 0, 168), 9141.77)\n",
      "((0, 1, 0), (0, 0, 0, 168), 9171.21)\n",
      "((0, 0, 1), (0, 0, 0, 168), 9372.44)\n",
      "((0, 0, 0), (0, 0, 0, 168), 10097.43)\n",
      "((1, 1, 0), (0, 0, 1, 168), 13664.71)\n",
      "((0, 1, 0), (1, 0, 1, 168), 14257.72)\n",
      "((0, 0, 0), (1, 0, 1, 168), 14320.0)\n",
      "((1, 0, 0), (1, 0, 1, 168), 14721.95)\n",
      "((1, 0, 0), (0, 0, 1, 168), 16589.28)\n",
      "((0, 1, 0), (0, 0, 1, 168), 19125.59)\n",
      "((0, 0, 0), (0, 0, 1, 168), 19561.85)\n",
      "((0, 0, 1), (0, 0, 1, 168), nan)\n",
      "((0, 0, 1), (1, 0, 1, 168), nan)\n",
      "((1, 1, 0), (1, 0, 1, 168), 16546.93)\n",
      "((1, 1, 1), (1, 0, 1, 168), 35705.35)\n",
      "((1, 0, 1), (1, 0, 1, 168), 36599.26)\n",
      "((1, 0, 1), (0, 0, 1, 168), 37153.04)\n",
      "((1, 1, 1), (0, 0, 1, 168), 37188.75)\n",
      "((0, 1, 1), (1, 0, 1, 168), 38079.81)\n",
      "((0, 1, 1), (0, 0, 1, 168), 47060.1)\n"
     ]
    }
   ],
   "source": [
    "print_result = zip(*[iter(result_list)]*3) \n",
    "print_result.sort(key=lambda x: x[2])\n",
    "\n",
    "print('Result summary:\\n')\n",
    "print('((p, d, q), (P, D, Q, S), AIC)')\n",
    "print('------------------------------')\n",
    "for item in print_result:\n",
    "    print item"
   ]
  }
 ],
 "metadata": {
  "kernelspec": {
   "display_name": "Python 2",
   "language": "python",
   "name": "python2"
  },
  "language_info": {
   "codemirror_mode": {
    "name": "ipython",
    "version": 2
   },
   "file_extension": ".py",
   "mimetype": "text/x-python",
   "name": "python",
   "nbconvert_exporter": "python",
   "pygments_lexer": "ipython2",
   "version": "2.7.12"
  }
 },
 "nbformat": 4,
 "nbformat_minor": 2
}
